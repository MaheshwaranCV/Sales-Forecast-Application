{
  "cells": [
    {
      "cell_type": "code",
      "execution_count": null,
      "metadata": {
        "id": "UJ0Cz6QGg05b"
      },
      "outputs": [],
      "source": [
        "import pandas as pd\n",
        "import seaborn as sb\n",
        "import matplotlib.pyplot as plt\n",
        "df=pd.read_csv(\"Random Sales.csv\")\n",
        "g=sb.barplot(x=\"Location\",y=\"Sales\",data=df)\n",
        "plt.title=\"Sales\"\n",
        "plt.show(g)"
      ]
    },
    {
      "cell_type": "code",
      "execution_count": null,
      "metadata": {
        "colab": {
          "base_uri": "https://localhost:8080/",
          "height": 434
        },
        "id": "kKO7D16Uh6IT",
        "outputId": "35a7f0cc-26c3-479f-e99a-c1d0c8b27abf"
      },
      "outputs": [],
      "source": [
        "df['Sale_LastMonth']=df['Sales'].shift(+1)\n",
        "df['Sale_2Monthsback']=df['Sales'].shift(+2)\n",
        "df['Sale_3Monthsback']=df['Sales'].shift(+3)\n",
        "df"
      ]
    },
    {
      "cell_type": "code",
      "execution_count": null,
      "metadata": {
        "colab": {
          "base_uri": "https://localhost:8080/",
          "height": 434
        },
        "id": "MzLs40rfoOmE",
        "outputId": "286c2990-5d7d-4245-d1da-a8b047807b2a"
      },
      "outputs": [],
      "source": [
        "df=df.dropna()\n",
        "df"
      ]
    },
    {
      "cell_type": "code",
      "execution_count": null,
      "metadata": {
        "id": "Rf0EZs7siAiU"
      },
      "outputs": [],
      "source": [
        "from sklearn.linear_model import LinearRegression\n",
        "lin_model=LinearRegression()"
      ]
    },
    {
      "cell_type": "code",
      "execution_count": null,
      "metadata": {
        "id": "sOxBkE40uRA1"
      },
      "outputs": [],
      "source": [
        "from sklearn.ensemble import RandomForestRegressor\n",
        "model=RandomForestRegressor(n_estimators=100,max_features=3, random_state=1)\n"
      ]
    },
    {
      "cell_type": "code",
      "execution_count": null,
      "metadata": {
        "colab": {
          "base_uri": "https://localhost:8080/"
        },
        "id": "ahAlfSPVv75K",
        "outputId": "5ea7ee90-2535-494f-df5e-2ae84d7bad2a"
      },
      "outputs": [],
      "source": [
        "import numpy as np\n",
        "x1,x2,x3,y=df['Sale_LastMonth'],df['Sale_2Monthsback'],df['Sale_3Monthsback'],df['Sales']\n",
        "x1,x2,x3,y=np.array(x1),np.array(x2),np.array(x3),np.array(y)\n",
        "x1,x2,x3,y=x1.reshape(-1,1),x2.reshape(-1,1),x3.reshape(-1,1),y.reshape(-1,1)\n",
        "final_x=np.concatenate((x1,x2,x3),axis=1)\n",
        "print(final_x)"
      ]
    },
    {
      "cell_type": "code",
      "execution_count": null,
      "metadata": {
        "id": "B99Pp3kHwdYS"
      },
      "outputs": [],
      "source": [
        "X_train,X_test,y_train,y_test=final_x[:-30],final_x[-30:],y[:-30],y[-30:]"
      ]
    },
    {
      "cell_type": "code",
      "execution_count": null,
      "metadata": {
        "colab": {
          "base_uri": "https://localhost:8080/"
        },
        "id": "syZCIXs3p8sW",
        "outputId": "cbe93bdc-3798-4adf-af9c-56dac2a4ae19"
      },
      "outputs": [],
      "source": [
        "model.fit(X_train,y_train)\n",
        "lin_model.fit(X_train,y_train)"
      ]
    },
    {
      "cell_type": "code",
      "execution_count": null,
      "metadata": {
        "colab": {
          "base_uri": "https://localhost:8080/",
          "height": 483
        },
        "id": "FKtiB1vpwivF",
        "outputId": "7e7a0f72-98ae-4030-9869-d700eaf3a6e6"
      },
      "outputs": [],
      "source": [
        "pred=model.predict(X_test)\n",
        "import matplotlib.pyplot as plt\n",
        "plt.rcParams[\"figure.figsize\"] = (12,8)\n",
        "plt.plot(pred,label='Random_Forest_Predictions')\n",
        "plt.plot(y_test,label='Actual Sales')\n",
        "plt.legend(loc=\"upper left\")\n",
        "plt.show()"
      ]
    },
    {
      "cell_type": "code",
      "execution_count": null,
      "metadata": {
        "colab": {
          "base_uri": "https://localhost:8080/",
          "height": 374
        },
        "id": "zwtbfMXSq9TU",
        "outputId": "200b2b09-5f3e-4c9c-e687-5ac9ac9af0c0"
      },
      "outputs": [],
      "source": [
        "lin_pred=lin_model.predict(X_test)\n",
        "import matplotlib.pyplot as plt\n",
        "plt.rcParams[\"figure.figsize\"] = (11,6)\n",
        "plt.plot(lin_pred,label='Linear_Regression_Predictions')\n",
        "plt.plot(y_test,label='Actual Sales')\n",
        "plt.legend(loc=\"upper left\")\n",
        "plt.show()"
      ]
    },
    {
      "cell_type": "code",
      "execution_count": null,
      "metadata": {
        "id": "-K82kVphnFxT"
      },
      "outputs": [],
      "source": [
        "from sklearn.metrics import mean_squared_error\n",
        "from math import sqrt\n",
        "rmse_rf=sqrt(mean_squared_error(pred,y_test))\n",
        "rmse_lr=sqrt(mean_squared_error(lin_pred,y_test))"
      ]
    },
    {
      "cell_type": "code",
      "execution_count": null,
      "metadata": {
        "colab": {
          "base_uri": "https://localhost:8080/"
        },
        "id": "TsrxmqpSwqi6",
        "outputId": "8568673b-4343-40ae-fc74-36af18d37d5e"
      },
      "outputs": [],
      "source": [
        "print('Mean Squared Error for Random Forest Model is:',rmse_rf)\n",
        "print('Mean Squared Error for Linear Regression Model is:',rmse_lr)"
      ]
    },
    {
      "cell_type": "code",
      "execution_count": null,
      "metadata": {
        "id": "cWvymQjOwtpI"
      },
      "outputs": [],
      "source": []
    }
  ],
  "metadata": {
    "colab": {
      "name": "Time_Series_Forecasting_ML.ipynb",
      "provenance": []
    },
    "kernelspec": {
      "display_name": "Python 3",
      "language": "python",
      "name": "python3"
    },
    "language_info": {
      "codemirror_mode": {
        "name": "ipython",
        "version": 3
      },
      "file_extension": ".py",
      "mimetype": "text/x-python",
      "name": "python",
      "nbconvert_exporter": "python",
      "pygments_lexer": "ipython3",
      "version": "3.10.9 (tags/v3.10.9:1dd9be6, Dec  6 2022, 20:01:21) [MSC v.1934 64 bit (AMD64)]"
    },
    "vscode": {
      "interpreter": {
        "hash": "495d6f893f4ef48a71b2bdcff781a7b62dc87cee63d08f0696c7aea4f0df1364"
      }
    }
  },
  "nbformat": 4,
  "nbformat_minor": 0
}
